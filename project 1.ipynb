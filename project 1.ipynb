{
 "cells": [
  {
   "cell_type": "code",
   "execution_count": 3,
   "id": "d63d6f3a-7b1e-47c1-8feb-f6406843dfe2",
   "metadata": {},
   "outputs": [
    {
     "name": "stdin",
     "output_type": "stream",
     "text": [
      "enter a number j\n",
      "enter a number j;\n",
      "enter a number as\n",
      "enter a number c\n",
      "enter a number dcas\n",
      "enter a number a3\n",
      "enter a number \n",
      "enter a number 4\n"
     ]
    },
    {
     "data": {
      "text/plain": [
       "4"
      ]
     },
     "execution_count": 3,
     "metadata": {},
     "output_type": "execute_result"
    }
   ],
   "source": [
    "def iu():\n",
    "    a=0\n",
    "    while a==0:\n",
    "        x = input(\"enter a number\")\n",
    "        try: \n",
    "            int(x)\n",
    "            a=int(x)\n",
    "            return a\n",
    "        except:\n",
    "            a=0\n",
    "            \n",
    "iu()\n",
    "    "
   ]
  },
  {
   "cell_type": "code",
   "execution_count": 17,
   "id": "eb2ed123-98da-4aed-b2a9-31fa6957d9f8",
   "metadata": {},
   "outputs": [
    {
     "name": "stdin",
     "output_type": "stream",
     "text": [
      "pick a position from (0,1,2) to replace 4\n",
      "pick a number from (0,1,2)  5\n",
      "pick a number from (0,1,2)  w\n",
      "please enter a number 2\n",
      "what would you like to replace with? fgh\n"
     ]
    },
    {
     "name": "stdout",
     "output_type": "stream",
     "text": [
      "[0, 1, 'fgh']\n"
     ]
    },
    {
     "name": "stdin",
     "output_type": "stream",
     "text": [
      "would you like to play again provide [y/n] y\n"
     ]
    },
    {
     "name": "stdout",
     "output_type": "stream",
     "text": [
      "please do\n"
     ]
    },
    {
     "name": "stdin",
     "output_type": "stream",
     "text": [
      "pick a position from (0,1,2) to replace 56\n",
      "pick a number from (0,1,2)  1\n",
      "what would you like to replace with? hjk\n"
     ]
    },
    {
     "name": "stdout",
     "output_type": "stream",
     "text": [
      "[0, 'hjk', 'fgh']\n"
     ]
    },
    {
     "name": "stdin",
     "output_type": "stream",
     "text": [
      "would you like to play again provide [y/n] n\n"
     ]
    },
    {
     "name": "stdout",
     "output_type": "stream",
     "text": [
      "thank you\n"
     ]
    }
   ],
   "source": [
    "l=[0,1,2]\n",
    "m=0\n",
    "def use():\n",
    "    x= input(\"pick a position from (0,1,2) to replace\")\n",
    "    while x not in [0,1,2]:\n",
    "        if(x.isdigit()== False):\n",
    "            x= input(\"please enter a number\")\n",
    "        elif ((int(x) in range(0,3)) == True):\n",
    "            x=int(x)\n",
    "        else:\n",
    "             x= input(\"pick a number from (0,1,2) \")\n",
    "    return x\n",
    "def rep(s,j):\n",
    "    s[j]= input('what would you like to replace with?')\n",
    "    return s[j]\n",
    "\n",
    "def pr(d):\n",
    "    print(d)\n",
    "def aga():\n",
    "    g= input (\"would you like to play again provide [y/n]\")\n",
    "    while g not in ['Y','y','N','n']:\n",
    "        g=input(\"please give only[y/n]\")\n",
    "    return g\n",
    "while m not in ['Y','y','N','n']:\n",
    "    t=use()\n",
    "    l[t]=rep(l,t)\n",
    "    pr(l)\n",
    "    c=aga()\n",
    "    if c in['Y','y']:\n",
    "        print(\"please do\")\n",
    "        m=1\n",
    "    else:\n",
    "        print(\"thank you\")\n",
    "        m='n'\n",
    "    \n",
    "0\n",
    "\n",
    "              "
   ]
  },
  {
   "cell_type": "code",
   "execution_count": 13,
   "id": "5f299e85-fe77-4a6b-b83a-f9388cf32924",
   "metadata": {},
   "outputs": [
    {
     "name": "stdin",
     "output_type": "stream",
     "text": [
      "would you like to play again provide [y/n] f\n",
      " g\n",
      " g\n",
      " y\n"
     ]
    },
    {
     "name": "stdout",
     "output_type": "stream",
     "text": [
      "y\n"
     ]
    }
   ],
   "source": [
    "def pr():\n",
    "    \n",
    "    g= input (\"would you like to play again provide [y/n]\")\n",
    "    while g not in ['Y','y','N','n']:\n",
    "        g=input(\"please give only[y/n]\")\n",
    "    return g\n",
    "a=pr()\n",
    "print(a)"
   ]
  },
  {
   "cell_type": "markdown",
   "id": "4f0d548f-b4a6-4196-a8ec-d6eb05362db6",
   "metadata": {},
   "source": [
    "j=[ ' ',' ',' ']\n",
    "k=[ ' ',' ',' ']\n",
    "l=[ ' ',' ',' ']\n",
    "def end(x):\n",
    "    if(x=='y' or x=='Y'):\n",
    "        print(\"ok we start\")\n",
    "        a=1\n",
    "    else:\n",
    "        print('bye bye')\n",
    "        a=0\n",
    "    return a\n",
    "\n",
    "def grid(r1,r2,r3):\n",
    "    print(f\"{r1[0]}|{r1[1]}|{r1[2]}\")\n",
    "    print(\"------\")\n",
    "    print(f\"{r2[0]}|{r2[1]}|{r2[2]}\")\n",
    "    print(\"------\")\n",
    "    print(f\"{r3[0]}|{r3[1]}|{r3[2]}\")\n",
    "def helo():\n",
    "    hel()\n",
    "def hel():\n",
    "    m=0\n",
    "    q=input(\"hello we'll start TIC-TAC-TOE player please choose [X/O]\")\n",
    "    while q not in ['x','o']:\n",
    "        q=input(\"please provide only [X/o]\")\n",
    "    s=input(f\"it seems player 1 has taken{q} player 2 would you like to start?[y/n]\")\n",
    "    while s not in ['y','n']:\n",
    "        s = input(\"please provide only[y/n]\")\n",
    "    if (s=='y'):\n",
    "        b=['x','o']\n",
    "        b.remove(q)\n",
    "        c=b[0]\n",
    "        return q,c\n",
    "    else:\n",
    "        helo()\n",
    "def game(m,n,o):\n",
    "    i=0\n",
    "    if ((m[i]==n[i] and n[i]==o[i] and n[i]!=' ')==True):\n",
    "        print(\"you won\")\n",
    "    elif (m[i+1]==n[i+1] and n[i+1]==o[i+1] and n[i+1]!=' ')==True:\n",
    "        print(\"you won\")\n",
    "    elif (m[i+2]==n[i+2] and n[i+2]==o[i+2] and n[i+2]!=' ')==True:\n",
    "        print(\"you won\")\n",
    "    elif (m[i]==n[i+1] and n[i+1]==o[i+2] and n[i+1]!=' ')==True:\n",
    "        print(\"you won\")\n",
    "    elif (m[i+2]==n[i+1] and n[i+1]==o[i] and o[i]!=' ')==True:\n",
    "        print(\"you won\")\n",
    "    elif (m[i]==m[i+1] and m[i+1]==m[i+2] and m[i]!=' ')==True:\n",
    "        print(\"you won\")\n",
    "    elif (n[i]==n[i+1] and n[i+1]==n[i+2] and n[i]!=' ')==True:\n",
    "        print(\"you won\")\n",
    "    elif (o[i]==o[i+1] and o[i+1]==o[i+2] and o[i]!=' ')==True:\n",
    "        print(\"you won\")\n",
    "    else:\n",
    "        return 0\n",
    "\n",
    "dew,ew=hel()\n",
    "for i in range(1,10):\n",
    "    t= int(input(\"your position?\"))\n",
    "    while t not in range(1,10):\n",
    "        t=input(\"inside range of 1 to 9\")\n",
    "    if (i%2!=0):\n",
    "        if t in [1,2,3]:\n",
    "            l[t]=dew\n",
    "            grid(j,k,l)\n",
    "            ga=game(j,k,l)\n",
    "            if (ga==None):\n",
    "                pass\n",
    "        elif i in [4,5,6]:\n",
    "            k[t]=dew\n",
    "            grid(j,k,l)\n",
    "            ga=game(j,k,l)\n",
    "            if (ga==None):\n",
    "                pass\n",
    "        elif i in [7,8,9]:\n",
    "            j[t]=dew\n",
    "            grid(j,k,l)\n",
    "            ga=game(j,k,l)\n",
    "            if (ga==None):\n",
    "                pass\n",
    "            elif(i==9):\n",
    "                print(\"Draw\")\n",
    "    else:\n",
    "        if t in [1,2,3]:\n",
    "            l[t]=ew\n",
    "            grid(j,k,l)\n",
    "            ga=game(j,k,l)\n",
    "            if (ga==None):\n",
    "                pass\n",
    "        elif i in [4,5,6]:\n",
    "            k[t]=ew\n",
    "            grid(j,k,l)\n",
    "            ga=game(j,k,l)\n",
    "            if (ga==None):\n",
    "                pass\n",
    "        elif i in [7,8,9]:\n",
    "            j[t]=ew\n",
    "            grid(j,k,l)\n",
    "            ga=game(j,k,l)\n",
    "            if (ga==None):\n",
    "                pass\n",
    "            elif(i==9):\n",
    "                print(\"Draw\")\n",
    "                \n",
    "                \n",
    "            \n",
    "            \n",
    "            \n",
    "        \n",
    "        \n"
   ]
  },
  {
   "cell_type": "code",
   "execution_count": null,
   "id": "112a1a88-16a4-4a54-9d24-edc02ba00c12",
   "metadata": {},
   "outputs": [],
   "source": []
  },
  {
   "cell_type": "code",
   "execution_count": 76,
   "id": "1e8bfcb7-4e47-4a7b-b742-1b0a76f7a22d",
   "metadata": {},
   "outputs": [
    {
     "name": "stdout",
     "output_type": "stream",
     "text": [
      "[0, 1]\n"
     ]
    },
    {
     "name": "stdin",
     "output_type": "stream",
     "text": [
      " 0\n"
     ]
    },
    {
     "name": "stdout",
     "output_type": "stream",
     "text": [
      "[1]\n",
      "[1]\n"
     ]
    }
   ],
   "source": [
    "x=[0,1]\n",
    "def gg():\n",
    "    e=int(input())\n",
    "    f= x.index(e)\n",
    "    x.remove(f)\n",
    "    print(x)\n",
    "\n",
    "print(x)\n",
    "gg()\n",
    "print(x)"
   ]
  },
  {
   "cell_type": "code",
   "execution_count": 15,
   "id": "c43948ba-831e-4157-a0c1-8660de44ba50",
   "metadata": {},
   "outputs": [
    {
     "name": "stdin",
     "output_type": "stream",
     "text": [
      "hello we'll start TIC-TAC-TOE player please choose [X/O] x\n",
      "it seems player 1 has takenx player 2 would you like to start?[y/n] y\n"
     ]
    },
    {
     "name": "stdout",
     "output_type": "stream",
     "text": [
      "x\n"
     ]
    }
   ],
   "source": [
    "\n",
    "print(a)"
   ]
  },
  {
   "cell_type": "code",
   "execution_count": 31,
   "id": "354e14ca-e6fc-4d97-b051-adc4a1d24fc4",
   "metadata": {},
   "outputs": [
    {
     "name": "stdin",
     "output_type": "stream",
     "text": [
      " x\n"
     ]
    },
    {
     "name": "stdout",
     "output_type": "stream",
     "text": [
      "<class 'str'>\n"
     ]
    }
   ],
   "source": [
    "x= input()\n",
    "z=['x','o']\n",
    "z.remove(x)\n",
    "a=z[0]\n",
    "print(type(a))\n",
    "\n"
   ]
  },
  {
   "cell_type": "code",
   "execution_count": 168,
   "id": "22d71421-b7de-4416-95e4-23f198e8eb0f",
   "metadata": {},
   "outputs": [
    {
     "name": "stdin",
     "output_type": "stream",
     "text": [
      " x\n"
     ]
    },
    {
     "name": "stdout",
     "output_type": "stream",
     "text": [
      "o x\n"
     ]
    }
   ],
   "source": [
    "def fu():\n",
    "    x=input()\n",
    "    z=['x','o']\n",
    "    rt=z[0]\n",
    "    z.remove(x)\n",
    "    at=z[0]\n",
    "    return at,rt\n",
    "\n",
    "zc,xc = fu()\n",
    "print(zc,xc)"
   ]
  },
  {
   "cell_type": "code",
   "execution_count": 160,
   "id": "6f5a064c-39e5-455e-b8ed-bf307babfa13",
   "metadata": {},
   "outputs": [
    {
     "name": "stdout",
     "output_type": "stream",
     "text": [
      "0\n"
     ]
    }
   ],
   "source": [
    "j=[' ','x',' ']\n",
    "k=[' ','x',' ']\n",
    "l=[' ','',' ']\n",
    "def game(m,n,o):\n",
    "    i=0\n",
    "    if ((m[i]==n[i] and n[i]==o[i] and n[i]!=' ')==True):\n",
    "        print(\"you won\")\n",
    "    elif (m[i+1]==n[i+1] and n[i+1]==o[i+1] and n[i+1]!=' ')==True:\n",
    "        print(\"you won\")\n",
    "    elif (m[i+2]==n[i+2] and n[i+2]==o[i+2] and n[i+2]!=' ')==True:\n",
    "        print(\"you won\")\n",
    "    elif (m[i]==n[i+1] and n[i+1]==o[i+2] and n[i+1]!=' ')==True:\n",
    "        print(\"you won\")\n",
    "    elif (m[i+2]==n[i+1] and n[i+1]==o[i] and o[i]!=' ')==True:\n",
    "        print(\"you won\")\n",
    "    elif (m[i]==m[i+1] and m[i+1]==m[i+2] and m[i]!=' ')==True:\n",
    "        print(\"you won\")\n",
    "    elif (n[i]==n[i+1] and n[i+1]==n[i+2] and n[i]!=' ')==True:\n",
    "        print(\"you won\")\n",
    "    elif (o[i]==o[i+1] and o[i+1]==o[i+2] and o[i]!=' ')==True:\n",
    "        print(\"you won\")\n",
    "    else:\n",
    "        return 0\n",
    "   \n",
    "    \n",
    "    \n",
    "    \n",
    "a=game(j,k,l)\n",
    "if (a== None):\n",
    "    pass\n",
    "else:\n",
    "    print(a)\n"
   ]
  },
  {
   "cell_type": "code",
   "execution_count": 134,
   "id": "9537517d-d512-4e32-b1b9-a3d8aa19a0e1",
   "metadata": {},
   "outputs": [
    {
     "name": "stdout",
     "output_type": "stream",
     "text": [
      "[1, 2, 'k']\n"
     ]
    }
   ],
   "source": [
    "lk=[1,2,4]\n",
    "lk[2]='k'\n",
    "print(lk)"
   ]
  },
  {
   "cell_type": "code",
   "execution_count": 170,
   "id": "8f86dced-72c7-40c2-981e-adab35e8f0ce",
   "metadata": {},
   "outputs": [
    {
     "name": "stdin",
     "output_type": "stream",
     "text": [
      "hello we'll start TIC-TAC-TOE player please choose [X/O] x\n",
      "it seems player 1 has takenx player 2 would you like to start?[y/n] y\n"
     ]
    },
    {
     "name": "stdout",
     "output_type": "stream",
     "text": [
      "x o\n"
     ]
    }
   ],
   "source": [
    "def helo():\n",
    "    hel()\n",
    "def hel():\n",
    "    m=0\n",
    "    q=input(\"hello we'll start TIC-TAC-TOE player please choose [X/O]\")\n",
    "    while q not in ['x','o']:\n",
    "        q=input(\"please provide only [X/o]\")\n",
    "    s=input(f\"it seems player 1 has taken{q} player 2 would you like to start?[y/n]\")\n",
    "    while s not in ['y','n']:\n",
    "        s = input(\"please provide only[y/n]\")\n",
    "    if (s=='y'):\n",
    "        b=['x','o']\n",
    "        b.remove(q)\n",
    "        c=b[0]\n",
    "        return q,c\n",
    "    else:\n",
    "        helo()\n",
    "aer,der=hel()\n",
    "print(aer,der)"
   ]
  },
  {
   "cell_type": "code",
   "execution_count": 1,
   "id": "ccec7ebd-3872-4a02-8f8a-1fd38103350f",
   "metadata": {},
   "outputs": [
    {
     "data": {
      "text/plain": [
       "2"
      ]
     },
     "execution_count": 1,
     "metadata": {},
     "output_type": "execute_result"
    }
   ],
   "source": [
    "def neum(aa):\n",
    "    if aa in [1,4,7]:\n",
    "        return 0\n",
    "    elif aa in [2,5,8]:\n",
    "        return 1\n",
    "    else:\n",
    "        return 2\n",
    "neum(6)"
   ]
  },
  {
   "cell_type": "code",
   "execution_count": 17,
   "id": "b2fe37a9-5ef0-4a7d-9802-90ebcb361b46",
   "metadata": {},
   "outputs": [
    {
     "name": "stdout",
     "output_type": "stream",
     "text": [
      "   |   |\n",
      " O | O | X\n",
      "   |   |\n",
      "-----------\n",
      "   |   |\n",
      " X | O | X\n",
      "   |   |\n",
      "-----------\n",
      "   |   |\n",
      "   |   | O\n",
      "   |   |\n",
      "Player 2 has won!\n"
     ]
    },
    {
     "name": "stdin",
     "output_type": "stream",
     "text": [
      "Do you want to play again? Enter Yes or No:  2\n"
     ]
    }
   ],
   "source": [
    "from IPython.display import clear_output\n",
    "\n",
    "def display_board(board):\n",
    "    clear_output()  # Remember, this only works in jupyter!\n",
    "    \n",
    "    print('   |   |')\n",
    "    print(' ' + board[7] + ' | ' + board[8] + ' | ' + board[9])\n",
    "    print('   |   |')\n",
    "    print('-----------')\n",
    "    print('   |   |')\n",
    "    print(' ' + board[4] + ' | ' + board[5] + ' | ' + board[6])\n",
    "    print('   |   |')\n",
    "    print('-----------')\n",
    "    print('   |   |')\n",
    "    print(' ' + board[1] + ' | ' + board[2] + ' | ' + board[3])\n",
    "    print('   |   |')\n",
    "def player_input():\n",
    "    marker = ''\n",
    "    \n",
    "    while not (marker == 'X' or marker == 'O'):\n",
    "        marker = input('Player 1: Do you want to be X or O? ').upper()\n",
    "\n",
    "    if marker == 'X':\n",
    "        return ('X', 'O')\n",
    "    else:\n",
    "        return ('O', 'X')\n",
    "def place_marker(board, marker, position):\n",
    "    board[position] = marker\n",
    "def win_check(board,mark):\n",
    "    \n",
    "    return ((board[7] == mark and board[8] == mark and board[9] == mark) or # across the top\n",
    "    (board[4] == mark and board[5] == mark and board[6] == mark) or # across the middle\n",
    "    (board[1] == mark and board[2] == mark and board[3] == mark) or # across the bottom\n",
    "    (board[7] == mark and board[4] == mark and board[1] == mark) or # down the middle\n",
    "    (board[8] == mark and board[5] == mark and board[2] == mark) or # down the middle\n",
    "    (board[9] == mark and board[6] == mark and board[3] == mark) or # down the right side\n",
    "    (board[7] == mark and board[5] == mark and board[3] == mark) or # diagonal\n",
    "    (board[9] == mark and board[5] == mark and board[1] == mark)) # diagonal\n",
    "import random\n",
    "\n",
    "def choose_first():\n",
    "    if random.randint(0, 1) == 0:\n",
    "        return 'Player 2'\n",
    "    else:\n",
    "        return 'Player 1'\n",
    "def space_check(board, position):\n",
    "    \n",
    "    return board[position] == ' '\n",
    "def full_board_check(board):\n",
    "    for i in range(1,10):\n",
    "        if space_check(board, i):\n",
    "            return False\n",
    "    return True\n",
    "def player_choice(board):\n",
    "    position = 0\n",
    "    \n",
    "    while position not in [1,2,3,4,5,6,7,8,9] or not space_check(board, position):\n",
    "        position = int(input('Choose your next position: (1-9) '))\n",
    "        \n",
    "    return position\n",
    "def replay():\n",
    "    \n",
    "    return input('Do you want to play again? Enter Yes or No: ').lower().startswith('y')\n",
    "print('Welcome to Tic Tac Toe!')\n",
    "\n",
    "while True:\n",
    "    # Reset the board\n",
    "    theBoard = [' '] * 10\n",
    "    player1_marker, player2_marker = player_input()\n",
    "    turn = choose_first()\n",
    "    print(turn + ' will go first.')\n",
    "    \n",
    "    play_game = input('Are you ready to play? Enter Yes or No.')\n",
    "    \n",
    "    if play_game.lower()[0] == 'y':\n",
    "        game_on = True\n",
    "    else:\n",
    "        game_on = False\n",
    "\n",
    "    while game_on:\n",
    "        if turn == 'Player 1':\n",
    "            # Player1's turn.\n",
    "            \n",
    "            display_board(theBoard)\n",
    "            position = player_choice(theBoard)\n",
    "            place_marker(theBoard, player1_marker, position)\n",
    "\n",
    "            if win_check(theBoard, player1_marker):\n",
    "                display_board(theBoard)\n",
    "                print('Congratulations! You have won the game!')\n",
    "                game_on = False\n",
    "            else:\n",
    "                if full_board_check(theBoard):\n",
    "                    display_board(theBoard)\n",
    "                    print('The game is a draw!')\n",
    "                    break\n",
    "                else:\n",
    "                    turn = 'Player 2'\n",
    "\n",
    "        else:\n",
    "            # Player2's turn.\n",
    "            \n",
    "            display_board(theBoard)\n",
    "            position = player_choice(theBoard)\n",
    "            place_marker(theBoard, player2_marker, position)\n",
    "\n",
    "            if win_check(theBoard, player2_marker):\n",
    "                display_board(theBoard)\n",
    "                print('Player 2 has won!')\n",
    "                game_on = False\n",
    "            else:\n",
    "                if full_board_check(theBoard):\n",
    "                    display_board(theBoard)\n",
    "                    print('The game is a draw!')\n",
    "                    break\n",
    "                else:\n",
    "                    turn = 'Player 1'\n",
    "\n",
    "    if not replay():\n",
    "        break"
   ]
  },
  {
   "cell_type": "code",
   "execution_count": null,
   "id": "423d4d2d-5adf-419b-9613-fe1405659203",
   "metadata": {},
   "outputs": [
    {
     "name": "stdin",
     "output_type": "stream",
     "text": [
      "hello we'll start TIC-TAC-TOE player please choose [X/O] x\n",
      "it seems player 1 has takenx player 2 would you like to start?[y/n] y\n",
      "your position? 1\n"
     ]
    },
    {
     "name": "stdout",
     "output_type": "stream",
     "text": [
      " | | \n",
      "------\n",
      " | | \n",
      "------\n",
      "x| | \n"
     ]
    },
    {
     "name": "stdin",
     "output_type": "stream",
     "text": [
      "your position? 1\n"
     ]
    },
    {
     "name": "stdout",
     "output_type": "stream",
     "text": [
      " | | \n",
      "------\n",
      " | | \n",
      "------\n",
      "o| | \n"
     ]
    },
    {
     "name": "stdin",
     "output_type": "stream",
     "text": [
      "your position? 1\n"
     ]
    },
    {
     "name": "stderr",
     "output_type": "stream",
     "text": [
      "IOPub data rate exceeded.\n",
      "The Jupyter server will temporarily stop sending output\n",
      "to the client in order to avoid crashing it.\n",
      "To change this limit, set the config variable\n",
      "`--ServerApp.iopub_data_rate_limit`.\n",
      "\n",
      "Current values:\n",
      "ServerApp.iopub_data_rate_limit=1000000.0 (bytes/sec)\n",
      "ServerApp.rate_limit_window=3.0 (secs)\n",
      "\n"
     ]
    }
   ],
   "source": [
    "j=[ ' ',' ',' ']\n",
    "k=[ ' ',' ',' ']\n",
    "l=[ ' ',' ',' ']\n",
    "def end(x):\n",
    "    if(x=='y' or x=='Y'):\n",
    "        print(\"ok we start\")\n",
    "        a=1\n",
    "    else:\n",
    "        print('bye bye')\n",
    "        a=0\n",
    "    return a\n",
    "def spc(a,s):\n",
    "    return (a[s]==' ')\n",
    "def grid(r1,r2,r3):\n",
    "    print(f\"{r1[0]}|{r1[1]}|{r1[2]}\")\n",
    "    print(\"------\")\n",
    "    print(f\"{r2[0]}|{r2[1]}|{r2[2]}\")\n",
    "    print(\"------\")\n",
    "    print(f\"{r3[0]}|{r3[1]}|{r3[2]}\")\n",
    "def helo():\n",
    "    hel()\n",
    "def hel():\n",
    "    m=0\n",
    "    q=input(\"hello we'll start TIC-TAC-TOE player please choose [X/O]\")\n",
    "    while q not in ['x','o']:\n",
    "        q=input(\"please provide only [X/o]\")\n",
    "    s=input(f\"it seems player 1 has taken{q} player 2 would you like to start?[y/n]\")\n",
    "    while s not in ['y','n']:\n",
    "        s = input(\"please provide only[y/n]\")\n",
    "    if (s=='y'):\n",
    "        b=['x','o']\n",
    "        b.remove(q)\n",
    "        c=b[0]\n",
    "        return q,c\n",
    "    else:\n",
    "        helo()\n",
    "def game(m,n,o):\n",
    "    i=0\n",
    "    if ((m[i]==n[i] and n[i]==o[i] and n[i]!=' ')==True):\n",
    "        return 1\n",
    "    elif (m[i+1]==n[i+1] and n[i+1]==o[i+1] and n[i+1]!=' ')==True:\n",
    "        return 1\n",
    "    elif (m[i+2]==n[i+2] and n[i+2]==o[i+2] and n[i+2]!=' ')==True:\n",
    "        return 1\n",
    "    elif (m[i]==n[i+1] and n[i+1]==o[i+2] and n[i+1]!=' ')==True:\n",
    "        return 1\n",
    "    elif (m[i+2]==n[i+1] and n[i+1]==o[i] and o[i]!=' ')==True:\n",
    "        return 1\n",
    "    elif (m[i]==m[i+1] and m[i+1]==m[i+2] and m[i]!=' ')==True:\n",
    "        return 1\n",
    "    elif (n[i]==n[i+1] and n[i+1]==n[i+2] and n[i]!=' ')==True:\n",
    "        return 1\n",
    "    elif (o[i]==o[i+1] and o[i+1]==o[i+2] and o[i]!=' ')==True:\n",
    "        return 1\n",
    "    else:\n",
    "        return 0\n",
    "def nume(ta):\n",
    "    if ta in [1,4,7]:\n",
    "        return 0\n",
    "    elif ta in [2,5,8]:\n",
    "        return 1\n",
    "    else:\n",
    "        return 2\n",
    "\n",
    "dew,ew=hel()\n",
    "for i in range(1,11):\n",
    "    t= int(input(\"your position?\"))\n",
    "    while t not in range(1,10):\n",
    "        t=int(input(\"inside range of 1 to 9\"))\n",
    "    if(i==10):\n",
    "        print(\"Draw\")\n",
    "    elif (i%2!=0):\n",
    "        if t in [1,2,3]:\n",
    "            while True:\n",
    "                if (spc(l,nume(t))== True):\n",
    "                    l[nume(t)]=dew\n",
    "                    grid(j,k,l)\n",
    "                    ga=game(j,k,l)\n",
    "                    break\n",
    "                else:\n",
    "                    print(\"dont give already given number\")\n",
    "            if (ga==1):\n",
    "                print(\"You Won\")\n",
    "                break\n",
    "            else:\n",
    "                pass\n",
    "            \n",
    "        elif t in [4,5,6]:\n",
    "            while True:\n",
    "                if spc(k,nume(t)==True):\n",
    "                    k[nume(t)]=dew\n",
    "                    grid(j,k,l)\n",
    "                    ga=game(j,k,l)\n",
    "                    break\n",
    "                else:\n",
    "                    print(\"dont give already given number\")\n",
    "            if (ga==1):\n",
    "                print(\"You Won\")\n",
    "                break\n",
    "            else:\n",
    "                pass\n",
    "        elif t in [7,8,9]:\n",
    "            j[nume(t)]=dew\n",
    "            grid(j,k,l)\n",
    "            ga=game(j,k,l)\n",
    "            if (ga==1):\n",
    "                print(\"You Won\")\n",
    "                break\n",
    "            else:\n",
    "                pass\n",
    "    \n",
    "    else:\n",
    "        if t in [1,2,3]:\n",
    "            l[nume(t)]=ew\n",
    "            grid(j,k,l)\n",
    "            ga=game(j,k,l)\n",
    "            if (ga==1):\n",
    "                print(\"You Won\")\n",
    "                break\n",
    "            else:\n",
    "                pass\n",
    "        elif t in [4,5,6]:\n",
    "            k[nume(t)]=ew\n",
    "            grid(j,k,l)\n",
    "            ga=game(j,k,l)\n",
    "            if (ga==1):\n",
    "                print(\"You Won\")\n",
    "                break\n",
    "            else:\n",
    "                pass\n",
    "        elif t in [7,8,9]:\n",
    "            j[nume(t)]=ew\n",
    "            grid(j,k,l)\n",
    "            ga=game(j,k,l)\n",
    "            if (ga==1):\n",
    "                print(\"You Won\")\n",
    "                break\n",
    "            else:\n",
    "                pass\n",
    "    "
   ]
  },
  {
   "cell_type": "code",
   "execution_count": null,
   "id": "3d9e62af-836c-4d4c-925a-e682672c100d",
   "metadata": {},
   "outputs": [],
   "source": [
    "j = [' ', ' ', ' ']\n",
    "k = [' ', ' ', ' ']\n",
    "l = [' ', ' ', ' ']\n",
    "\n",
    "# Function to start or end the game\n",
    "def end(x):\n",
    "    if x.lower() == 'y':\n",
    "        print(\"ok we start\")\n",
    "        a = 1\n",
    "    else:\n",
    "        print('bye bye')\n",
    "        a = 0\n",
    "    return a\n",
    "\n",
    "# Function to check if a cell is empty\n",
    "def spc(a, s):\n",
    "    return a[s] == ' '\n",
    "\n",
    "# Function to print the Tic-Tac-Toe grid\n",
    "def grid(r1, r2, r3):\n",
    "    print(f\"{r1[0]}|{r1[1]}|{r1[2]}\")\n",
    "    print(\"------\")\n",
    "    print(f\"{r2[0]}|{r2[1]}|{r2[2]}\")\n",
    "    print(\"------\")\n",
    "    print(f\"{r3[0]}|{r3[1]}|{r3[2]}\")\n",
    "\n",
    "# Function to initiate the game\n",
    "def helo():\n",
    "    return hel()\n",
    "\n",
    "def hel():\n",
    "    m = 0\n",
    "    q = input(\"Hello! We'll start TIC-TAC-TOE. Player 1, please choose [X/O]: \")\n",
    "    while q.lower() not in ['x', 'o']:\n",
    "        q = input(\"Please provide only [X/O]: \")\n",
    "    s = input(f\"It seems Player 1 has taken {q}. Player 2, would you like to start? [y/n]: \")\n",
    "    while s.lower() not in ['y', 'n']:\n",
    "        s = input(\"Please provide only [y/n]: \")\n",
    "    if s.lower() == 'y':\n",
    "        b = ['x', 'o']\n",
    "        b.remove(q.lower())\n",
    "        c = b[0]\n",
    "        return q.lower(), c\n",
    "    else:\n",
    "        return helo()\n",
    "\n",
    "# Function to check game-winning conditions\n",
    "def game(m, n, o):\n",
    "    i = 0\n",
    "    # Checking all possible win conditions\n",
    "    if ((m[i] == n[i] == o[i] != ' ') or \n",
    "        (m[i + 1] == n[i + 1] == o[i + 1] != ' ') or \n",
    "        (m[i + 2] == n[i + 2] == o[i + 2] != ' ') or \n",
    "        (m[i] == n[i + 1] == o[i + 2] != ' ') or \n",
    "        (m[i + 2] == n[i + 1] == o[i] != ' ') or \n",
    "        (m[i] == m[i + 1] == m[i + 2] != ' ') or \n",
    "        (n[i] == n[i + 1] == n[i + 2] != ' ') or \n",
    "        (o[i] == o[i + 1] == o[i + 2] != ' ')):\n",
    "        return 1\n",
    "    else:\n",
    "        return 0\n",
    "\n",
    "# Function to map board position to row/column index\n",
    "def nume(ta):\n",
    "    if ta in [1, 4, 7]:\n",
    "        return 0\n",
    "    elif ta in [2, 5, 8]:\n",
    "        return 1\n",
    "    else:\n",
    "        return 2\n",
    "\n",
    "dew, ew = hel()\n",
    "\n",
    "for i in range(1, 10):  # Reduced to 9 for Tic-Tac-Toe (max moves)\n",
    "    t = int(input(\"Your position (1-9)? \"))\n",
    "    while t not in range(1, 10):\n",
    "        t = int(input(\"Position must be in the range of 1 to 9: \"))\n",
    "\n",
    "    if i == 9:\n",
    "        print(\"It's a Draw!\")\n",
    "        break\n",
    "\n",
    "    # Player 1's turn\n",
    "    if i % 2 != 0:\n",
    "        if t in [1, 2, 3]:\n",
    "            while True:\n",
    "                if spc(l, nume(t)):\n",
    "                    l[nume(t)] = dew\n",
    "                    grid(j, k, l)\n",
    "                    ga = game(j, k, l)\n",
    "                    break\n",
    "                else:\n",
    "                    print(\"Don't pick an already occupied spot.\")\n",
    "            if ga == 1:\n",
    "                print(\"Player 1 Wins!\")\n",
    "                break\n",
    "\n",
    "        elif t in [4, 5, 6]:\n",
    "            while True:\n",
    "                if spc(k, nume(t)):\n",
    "                    k[nume(t)] = dew\n",
    "                    grid(j, k, l)\n",
    "                    ga = game(j, k, l)\n",
    "                    break\n",
    "                else:\n",
    "                    print(\"Don't pick an already occupied spot.\")\n",
    "            if ga == 1:\n",
    "                print(\"Player 1 Wins!\")\n",
    "                break\n",
    "\n",
    "        elif t in [7, 8, 9]:\n",
    "            while True:\n",
    "                if spc(j, nume(t)):\n",
    "                    j[nume(t)] = dew\n",
    "                    grid(j, k, l)\n",
    "                    ga = game(j, k, l)\n",
    "                    break\n",
    "                else:\n",
    "                    print(\"Don't pick an already occupied spot.\")\n",
    "            if ga == 1:\n",
    "                print(\"Player 1 Wins!\")\n",
    "                break\n",
    "\n",
    "    # Player 2's turn\n",
    "    else:\n",
    "        if t in [1, 2, 3]:\n",
    "            while True:\n",
    "                if spc(l, nume(t)):\n",
    "                    l[nume(t)] = ew\n",
    "                    grid(j, k, l)\n",
    "                    ga = game(j, k, l)\n",
    "                    break\n",
    "                else:\n",
    "                    print(\"Don't pick an already occupied spot.\")\n",
    "            if ga == 1:\n",
    "                print(\"Player 2 Wins!\")\n",
    "                break\n",
    "\n",
    "        elif t in [4, 5, 6]:\n",
    "            while True:\n",
    "                if spc(k, nume(t)):\n",
    "                    k[nume(t)] = ew\n",
    "                    grid(j, k, l)\n",
    "                    ga = game(j, k, l)\n",
    "                    break\n",
    "                else:\n",
    "                    print(\"Don't pick an already occupied spot.\")\n",
    "            if ga == 1:\n",
    "                print(\"Player 2 Wins!\")\n",
    "                break\n",
    "\n",
    "        elif t in [7, 8, 9]:\n",
    "            while True:\n",
    "                if spc(j, nume(t)):\n",
    "                    j[nume(t)] = ew\n",
    "                    grid(j, k, l)\n",
    "                    ga = game(j, k, l)\n",
    "                    break\n",
    "                else:\n",
    "                    print(\"Don't pick an already occupied spot.\")\n",
    "            if ga == 1:\n",
    "                print(\"Player 2 Wins!\")\n",
    "                break\n"
   ]
  }
 ],
 "metadata": {
  "kernelspec": {
   "display_name": "Python 3 (ipykernel)",
   "language": "python",
   "name": "python3"
  },
  "language_info": {
   "codemirror_mode": {
    "name": "ipython",
    "version": 3
   },
   "file_extension": ".py",
   "mimetype": "text/x-python",
   "name": "python",
   "nbconvert_exporter": "python",
   "pygments_lexer": "ipython3",
   "version": "3.12.7"
  }
 },
 "nbformat": 4,
 "nbformat_minor": 5
}
